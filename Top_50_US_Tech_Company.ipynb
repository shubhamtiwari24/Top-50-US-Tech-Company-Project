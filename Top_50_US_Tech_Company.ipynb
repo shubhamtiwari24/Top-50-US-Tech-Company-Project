{
 "cells": [
  {
   "cell_type": "markdown",
   "metadata": {},
   "source": [
    "# Top 50 US Tech Company Data Analysis"
   ]
  },
  {
   "cell_type": "raw",
   "metadata": {},
   "source": [
    "The analysis of the top 50 US tech companies of 2022 - 2023 provides valuable insights into the current state and trends of the technology industry. Through careful examination of various factors such as market capitalization, revenue, Sector, and industry dominance, we have gained a comprehensive understanding of the leading players in this dynamic sector.\n",
    "\n",
    "One key observation from the data analysis is the remarkable growth trajectory of these top tech companies. The consistent rise in market capitalization and revenue showcases their ability to innovate, adapt, and meet the evolving demands of the digital age. The sheer size and influence of these companies not only solidify their positions within the industry but also have a profound impact on the global economy."
   ]
  },
  {
   "cell_type": "markdown",
   "metadata": {},
   "source": [
    "### Import required Libraries"
   ]
  },
  {
   "cell_type": "code",
   "execution_count": 16,
   "metadata": {},
   "outputs": [],
   "source": [
    "import numpy as np\n",
    "import pandas as pd\n",
    "import matplotlib.pyplot as plt\n",
    "import seaborn as sns\n",
    "%matplotlib inline"
   ]
  },
  {
   "cell_type": "markdown",
   "metadata": {},
   "source": [
    "### Creating \"Tech_comp\" DataFrame For Tech Companies"
   ]
  },
  {
   "cell_type": "code",
   "execution_count": 17,
   "metadata": {},
   "outputs": [],
   "source": [
    "tech_comp = pd.read_csv(r'C:\\Users\\hp\\Desktop\\Top 50 US Tech Companies 2022 - 2023.csv')"
   ]
  },
  {
   "cell_type": "code",
   "execution_count": 18,
   "metadata": {},
   "outputs": [
    {
     "data": {
      "text/html": [
       "<div>\n",
       "<style scoped>\n",
       "    .dataframe tbody tr th:only-of-type {\n",
       "        vertical-align: middle;\n",
       "    }\n",
       "\n",
       "    .dataframe tbody tr th {\n",
       "        vertical-align: top;\n",
       "    }\n",
       "\n",
       "    .dataframe thead th {\n",
       "        text-align: right;\n",
       "    }\n",
       "</style>\n",
       "<table border=\"1\" class=\"dataframe\">\n",
       "  <thead>\n",
       "    <tr style=\"text-align: right;\">\n",
       "      <th></th>\n",
       "      <th>Company Name</th>\n",
       "      <th>Industry</th>\n",
       "      <th>Sector</th>\n",
       "      <th>HQ State</th>\n",
       "      <th>Founding Year</th>\n",
       "      <th>Annual Revenue 2022-2023 (USD in Billions)</th>\n",
       "      <th>Market Cap (USD in Trillions)</th>\n",
       "      <th>Stock Name</th>\n",
       "      <th>Annual Income Tax in 2022-2023 (USD in Billions)</th>\n",
       "      <th>Employee Size</th>\n",
       "    </tr>\n",
       "  </thead>\n",
       "  <tbody>\n",
       "    <tr>\n",
       "      <th>0</th>\n",
       "      <td>Apple Inc.</td>\n",
       "      <td>Technology</td>\n",
       "      <td>Consumer Electronics</td>\n",
       "      <td>California</td>\n",
       "      <td>1976</td>\n",
       "      <td>387.53</td>\n",
       "      <td>2.520</td>\n",
       "      <td>AAPL</td>\n",
       "      <td>18.314</td>\n",
       "      <td>164000</td>\n",
       "    </tr>\n",
       "    <tr>\n",
       "      <th>1</th>\n",
       "      <td>Microsoft Corporation</td>\n",
       "      <td>Technology</td>\n",
       "      <td>Software Infrastructure</td>\n",
       "      <td>Washington</td>\n",
       "      <td>1975</td>\n",
       "      <td>204.09</td>\n",
       "      <td>2.037</td>\n",
       "      <td>MSFT</td>\n",
       "      <td>15.139</td>\n",
       "      <td>221000</td>\n",
       "    </tr>\n",
       "    <tr>\n",
       "      <th>2</th>\n",
       "      <td>Alphabet (Google)</td>\n",
       "      <td>Technology</td>\n",
       "      <td>Software Infrastructure</td>\n",
       "      <td>California</td>\n",
       "      <td>1998</td>\n",
       "      <td>282.83</td>\n",
       "      <td>1.350</td>\n",
       "      <td>GOOG</td>\n",
       "      <td>11.356</td>\n",
       "      <td>190234</td>\n",
       "    </tr>\n",
       "    <tr>\n",
       "      <th>3</th>\n",
       "      <td>Amazon</td>\n",
       "      <td>Technology</td>\n",
       "      <td>Software Application</td>\n",
       "      <td>Washington</td>\n",
       "      <td>1994</td>\n",
       "      <td>513.98</td>\n",
       "      <td>1.030</td>\n",
       "      <td>AMZN</td>\n",
       "      <td>-3.217</td>\n",
       "      <td>1541000</td>\n",
       "    </tr>\n",
       "    <tr>\n",
       "      <th>4</th>\n",
       "      <td>NVIDIA Corporation</td>\n",
       "      <td>Technology</td>\n",
       "      <td>Semiconductors</td>\n",
       "      <td>California</td>\n",
       "      <td>1993</td>\n",
       "      <td>26.97</td>\n",
       "      <td>0.653</td>\n",
       "      <td>NVDA</td>\n",
       "      <td>0.189</td>\n",
       "      <td>22473</td>\n",
       "    </tr>\n",
       "  </tbody>\n",
       "</table>\n",
       "</div>"
      ],
      "text/plain": [
       "            Company Name    Industry                   Sector    HQ State  \\\n",
       "0             Apple Inc.  Technology     Consumer Electronics  California   \n",
       "1  Microsoft Corporation  Technology  Software Infrastructure  Washington   \n",
       "2      Alphabet (Google)  Technology  Software Infrastructure  California   \n",
       "3                 Amazon  Technology     Software Application  Washington   \n",
       "4     NVIDIA Corporation  Technology           Semiconductors  California   \n",
       "\n",
       "   Founding Year  Annual Revenue 2022-2023 (USD in Billions)  \\\n",
       "0           1976                                      387.53   \n",
       "1           1975                                      204.09   \n",
       "2           1998                                      282.83   \n",
       "3           1994                                      513.98   \n",
       "4           1993                                       26.97   \n",
       "\n",
       "   Market Cap (USD in Trillions) Stock Name  \\\n",
       "0                          2.520       AAPL   \n",
       "1                          2.037       MSFT   \n",
       "2                          1.350       GOOG   \n",
       "3                          1.030       AMZN   \n",
       "4                          0.653       NVDA   \n",
       "\n",
       "   Annual Income Tax in 2022-2023 (USD in Billions)  Employee Size  \n",
       "0                                            18.314         164000  \n",
       "1                                            15.139         221000  \n",
       "2                                            11.356         190234  \n",
       "3                                            -3.217        1541000  \n",
       "4                                             0.189          22473  "
      ]
     },
     "execution_count": 18,
     "metadata": {},
     "output_type": "execute_result"
    }
   ],
   "source": [
    "tech_comp.head()"
   ]
  },
  {
   "cell_type": "code",
   "execution_count": 19,
   "metadata": {},
   "outputs": [
    {
     "data": {
      "text/html": [
       "<div>\n",
       "<style scoped>\n",
       "    .dataframe tbody tr th:only-of-type {\n",
       "        vertical-align: middle;\n",
       "    }\n",
       "\n",
       "    .dataframe tbody tr th {\n",
       "        vertical-align: top;\n",
       "    }\n",
       "\n",
       "    .dataframe thead th {\n",
       "        text-align: right;\n",
       "    }\n",
       "</style>\n",
       "<table border=\"1\" class=\"dataframe\">\n",
       "  <thead>\n",
       "    <tr style=\"text-align: right;\">\n",
       "      <th></th>\n",
       "      <th>Company Name</th>\n",
       "      <th>Industry</th>\n",
       "      <th>Sector</th>\n",
       "      <th>HQ State</th>\n",
       "      <th>Founding Year</th>\n",
       "      <th>Annual Revenue 2022-2023 (USD in Billions)</th>\n",
       "      <th>Market Cap (USD in Trillions)</th>\n",
       "      <th>Stock Name</th>\n",
       "      <th>Annual Income Tax in 2022-2023 (USD in Billions)</th>\n",
       "      <th>Employee Size</th>\n",
       "    </tr>\n",
       "  </thead>\n",
       "  <tbody>\n",
       "    <tr>\n",
       "      <th>45</th>\n",
       "      <td>GlobalFoundries</td>\n",
       "      <td>Technology</td>\n",
       "      <td>Semiconductors</td>\n",
       "      <td>New York</td>\n",
       "      <td>2009</td>\n",
       "      <td>8.10</td>\n",
       "      <td>0.038</td>\n",
       "      <td>GFS</td>\n",
       "      <td>0.086</td>\n",
       "      <td>14600</td>\n",
       "    </tr>\n",
       "    <tr>\n",
       "      <th>46</th>\n",
       "      <td>IQVIA Holdings</td>\n",
       "      <td>Technology</td>\n",
       "      <td>Software Application</td>\n",
       "      <td>North Carolina</td>\n",
       "      <td>1982</td>\n",
       "      <td>14.41</td>\n",
       "      <td>0.037</td>\n",
       "      <td>IQV</td>\n",
       "      <td>0.260</td>\n",
       "      <td>85000</td>\n",
       "    </tr>\n",
       "    <tr>\n",
       "      <th>47</th>\n",
       "      <td>Marvell Technology Inc.</td>\n",
       "      <td>Technology</td>\n",
       "      <td>Semiconductors</td>\n",
       "      <td>California</td>\n",
       "      <td>1995</td>\n",
       "      <td>5.91</td>\n",
       "      <td>0.035</td>\n",
       "      <td>MRVL</td>\n",
       "      <td>0.249</td>\n",
       "      <td>6695</td>\n",
       "    </tr>\n",
       "    <tr>\n",
       "      <th>48</th>\n",
       "      <td>Dell Technologies Inc.</td>\n",
       "      <td>Technology</td>\n",
       "      <td>Computer Hardware</td>\n",
       "      <td>Texas</td>\n",
       "      <td>1984</td>\n",
       "      <td>102.30</td>\n",
       "      <td>0.028</td>\n",
       "      <td>DELL</td>\n",
       "      <td>0.981</td>\n",
       "      <td>133000</td>\n",
       "    </tr>\n",
       "    <tr>\n",
       "      <th>49</th>\n",
       "      <td>HP Inc.</td>\n",
       "      <td>Technology</td>\n",
       "      <td>Computer Hardware</td>\n",
       "      <td>California</td>\n",
       "      <td>1939</td>\n",
       "      <td>59.78</td>\n",
       "      <td>0.028</td>\n",
       "      <td>HPQ</td>\n",
       "      <td>1.238</td>\n",
       "      <td>51000</td>\n",
       "    </tr>\n",
       "  </tbody>\n",
       "</table>\n",
       "</div>"
      ],
      "text/plain": [
       "               Company Name    Industry                Sector        HQ State  \\\n",
       "45          GlobalFoundries  Technology        Semiconductors        New York   \n",
       "46           IQVIA Holdings  Technology  Software Application  North Carolina   \n",
       "47  Marvell Technology Inc.  Technology        Semiconductors      California   \n",
       "48   Dell Technologies Inc.  Technology     Computer Hardware           Texas   \n",
       "49                  HP Inc.  Technology     Computer Hardware      California   \n",
       "\n",
       "    Founding Year  Annual Revenue 2022-2023 (USD in Billions)  \\\n",
       "45           2009                                        8.10   \n",
       "46           1982                                       14.41   \n",
       "47           1995                                        5.91   \n",
       "48           1984                                      102.30   \n",
       "49           1939                                       59.78   \n",
       "\n",
       "    Market Cap (USD in Trillions) Stock Name  \\\n",
       "45                          0.038        GFS   \n",
       "46                          0.037        IQV   \n",
       "47                          0.035       MRVL   \n",
       "48                          0.028       DELL   \n",
       "49                          0.028        HPQ   \n",
       "\n",
       "    Annual Income Tax in 2022-2023 (USD in Billions)  Employee Size  \n",
       "45                                             0.086          14600  \n",
       "46                                             0.260          85000  \n",
       "47                                             0.249           6695  \n",
       "48                                             0.981         133000  \n",
       "49                                             1.238          51000  "
      ]
     },
     "execution_count": 19,
     "metadata": {},
     "output_type": "execute_result"
    }
   ],
   "source": [
    "tech_comp.tail()"
   ]
  },
  {
   "cell_type": "markdown",
   "metadata": {},
   "source": [
    "### Checking information about the Dataset"
   ]
  },
  {
   "cell_type": "code",
   "execution_count": 20,
   "metadata": {},
   "outputs": [
    {
     "name": "stdout",
     "output_type": "stream",
     "text": [
      "<class 'pandas.core.frame.DataFrame'>\n",
      "RangeIndex: 50 entries, 0 to 49\n",
      "Data columns (total 10 columns):\n",
      " #   Column                                            Non-Null Count  Dtype  \n",
      "---  ------                                            --------------  -----  \n",
      " 0   Company Name                                      50 non-null     object \n",
      " 1   Industry                                          50 non-null     object \n",
      " 2   Sector                                            50 non-null     object \n",
      " 3   HQ State                                          50 non-null     object \n",
      " 4   Founding Year                                     50 non-null     int64  \n",
      " 5   Annual Revenue 2022-2023 (USD in Billions)        50 non-null     float64\n",
      " 6   Market Cap (USD in Trillions)                     50 non-null     float64\n",
      " 7   Stock Name                                        50 non-null     object \n",
      " 8   Annual Income Tax in 2022-2023 (USD in Billions)  50 non-null     float64\n",
      " 9   Employee Size                                     50 non-null     int64  \n",
      "dtypes: float64(3), int64(2), object(5)\n",
      "memory usage: 4.0+ KB\n"
     ]
    }
   ],
   "source": [
    "tech_comp.info()"
   ]
  },
  {
   "cell_type": "code",
   "execution_count": 21,
   "metadata": {},
   "outputs": [
    {
     "data": {
      "text/plain": [
       "(50, 10)"
      ]
     },
     "execution_count": 21,
     "metadata": {},
     "output_type": "execute_result"
    }
   ],
   "source": [
    "tech_comp.shape"
   ]
  },
  {
   "cell_type": "code",
   "execution_count": 22,
   "metadata": {},
   "outputs": [
    {
     "data": {
      "text/plain": [
       "500"
      ]
     },
     "execution_count": 22,
     "metadata": {},
     "output_type": "execute_result"
    }
   ],
   "source": [
    "tech_comp.size"
   ]
  },
  {
   "cell_type": "code",
   "execution_count": 23,
   "metadata": {},
   "outputs": [
    {
     "data": {
      "text/plain": [
       "Company Name                                        0\n",
       "Industry                                            0\n",
       "Sector                                              0\n",
       "HQ State                                            0\n",
       "Founding Year                                       0\n",
       "Annual Revenue 2022-2023 (USD in Billions)          0\n",
       "Market Cap (USD in Trillions)                       0\n",
       "Stock Name                                          0\n",
       "Annual Income Tax in 2022-2023 (USD in Billions)    0\n",
       "Employee Size                                       0\n",
       "dtype: int64"
      ]
     },
     "execution_count": 23,
     "metadata": {},
     "output_type": "execute_result"
    }
   ],
   "source": [
    "# Checking Of Null Values\n",
    "tech_comp.isnull().sum()"
   ]
  },
  {
   "cell_type": "code",
   "execution_count": 24,
   "metadata": {},
   "outputs": [
    {
     "data": {
      "text/html": [
       "<div>\n",
       "<style scoped>\n",
       "    .dataframe tbody tr th:only-of-type {\n",
       "        vertical-align: middle;\n",
       "    }\n",
       "\n",
       "    .dataframe tbody tr th {\n",
       "        vertical-align: top;\n",
       "    }\n",
       "\n",
       "    .dataframe thead th {\n",
       "        text-align: right;\n",
       "    }\n",
       "</style>\n",
       "<table border=\"1\" class=\"dataframe\">\n",
       "  <thead>\n",
       "    <tr style=\"text-align: right;\">\n",
       "      <th></th>\n",
       "      <th>count</th>\n",
       "      <th>mean</th>\n",
       "      <th>std</th>\n",
       "      <th>min</th>\n",
       "      <th>25%</th>\n",
       "      <th>50%</th>\n",
       "      <th>75%</th>\n",
       "      <th>max</th>\n",
       "    </tr>\n",
       "  </thead>\n",
       "  <tbody>\n",
       "    <tr>\n",
       "      <th>Founding Year</th>\n",
       "      <td>50.0</td>\n",
       "      <td>1984.14000</td>\n",
       "      <td>24.988985</td>\n",
       "      <td>1890.000</td>\n",
       "      <td>1977.25000</td>\n",
       "      <td>1988.5000</td>\n",
       "      <td>1999.75000</td>\n",
       "      <td>2012.000</td>\n",
       "    </tr>\n",
       "    <tr>\n",
       "      <th>Annual Revenue 2022-2023 (USD in Billions)</th>\n",
       "      <td>50.0</td>\n",
       "      <td>51.20440</td>\n",
       "      <td>97.412880</td>\n",
       "      <td>2.060</td>\n",
       "      <td>7.65250</td>\n",
       "      <td>17.6650</td>\n",
       "      <td>40.81500</td>\n",
       "      <td>513.980</td>\n",
       "    </tr>\n",
       "    <tr>\n",
       "      <th>Market Cap (USD in Trillions)</th>\n",
       "      <td>50.0</td>\n",
       "      <td>0.25216</td>\n",
       "      <td>0.490377</td>\n",
       "      <td>0.028</td>\n",
       "      <td>0.05125</td>\n",
       "      <td>0.0825</td>\n",
       "      <td>0.16025</td>\n",
       "      <td>2.520</td>\n",
       "    </tr>\n",
       "    <tr>\n",
       "      <th>Annual Income Tax in 2022-2023 (USD in Billions)</th>\n",
       "      <td>50.0</td>\n",
       "      <td>1.38678</td>\n",
       "      <td>3.687916</td>\n",
       "      <td>-3.217</td>\n",
       "      <td>0.09875</td>\n",
       "      <td>0.2805</td>\n",
       "      <td>0.94500</td>\n",
       "      <td>18.314</td>\n",
       "    </tr>\n",
       "    <tr>\n",
       "      <th>Employee Size</th>\n",
       "      <td>50.0</td>\n",
       "      <td>83249.62000</td>\n",
       "      <td>220586.929174</td>\n",
       "      <td>2993.000</td>\n",
       "      <td>14150.00000</td>\n",
       "      <td>24725.0000</td>\n",
       "      <td>70155.75000</td>\n",
       "      <td>1541000.000</td>\n",
       "    </tr>\n",
       "  </tbody>\n",
       "</table>\n",
       "</div>"
      ],
      "text/plain": [
       "                                                  count         mean  \\\n",
       "Founding Year                                      50.0   1984.14000   \n",
       "Annual Revenue 2022-2023 (USD in Billions)         50.0     51.20440   \n",
       "Market Cap (USD in Trillions)                      50.0      0.25216   \n",
       "Annual Income Tax in 2022-2023 (USD in Billions)   50.0      1.38678   \n",
       "Employee Size                                      50.0  83249.62000   \n",
       "\n",
       "                                                            std       min  \\\n",
       "Founding Year                                         24.988985  1890.000   \n",
       "Annual Revenue 2022-2023 (USD in Billions)            97.412880     2.060   \n",
       "Market Cap (USD in Trillions)                          0.490377     0.028   \n",
       "Annual Income Tax in 2022-2023 (USD in Billions)       3.687916    -3.217   \n",
       "Employee Size                                     220586.929174  2993.000   \n",
       "\n",
       "                                                          25%         50%  \\\n",
       "Founding Year                                      1977.25000   1988.5000   \n",
       "Annual Revenue 2022-2023 (USD in Billions)            7.65250     17.6650   \n",
       "Market Cap (USD in Trillions)                         0.05125      0.0825   \n",
       "Annual Income Tax in 2022-2023 (USD in Billions)      0.09875      0.2805   \n",
       "Employee Size                                     14150.00000  24725.0000   \n",
       "\n",
       "                                                          75%          max  \n",
       "Founding Year                                      1999.75000     2012.000  \n",
       "Annual Revenue 2022-2023 (USD in Billions)           40.81500      513.980  \n",
       "Market Cap (USD in Trillions)                         0.16025        2.520  \n",
       "Annual Income Tax in 2022-2023 (USD in Billions)      0.94500       18.314  \n",
       "Employee Size                                     70155.75000  1541000.000  "
      ]
     },
     "execution_count": 24,
     "metadata": {},
     "output_type": "execute_result"
    }
   ],
   "source": [
    "tech_comp.describe().T"
   ]
  },
  {
   "cell_type": "markdown",
   "metadata": {},
   "source": [
    "### Total Company Sectors"
   ]
  },
  {
   "cell_type": "code",
   "execution_count": 57,
   "metadata": {},
   "outputs": [
    {
     "data": {
      "text/plain": [
       "Software Application        15\n",
       "Semiconductors              14\n",
       "Software Infrastructure     12\n",
       "IT Services                  3\n",
       "Computer Hardware            3\n",
       "Communication Equipments     1\n",
       "Consumer Electronics         1\n",
       "Electronic Components        1\n",
       "Name: Sector, dtype: int64"
      ]
     },
     "execution_count": 57,
     "metadata": {},
     "output_type": "execute_result"
    }
   ],
   "source": [
    "tech_comp['Sector'].value_counts()"
   ]
  },
  {
   "cell_type": "code",
   "execution_count": 28,
   "metadata": {},
   "outputs": [
    {
     "data": {
      "image/png": "[encoded data removed]",
      "text/plain": [
       "<Figure size 1440x720 with 1 Axes>"
      ]
     },
     "metadata": {
      "needs_background": "light"
     },
     "output_type": "display_data"
    }
   ],
   "source": [
    "plt.figure(figsize=(20,10))\n",
    "plt.title(\"Sectors of Most Tech Company\")\n",
    "sns.countplot(x=\"Sector\", data=tech_comp, order=tech_comp['Sector'].value_counts().index)\n",
    "plt.xlabel('Sector')\n",
    "plt.ylabel('Sector_Counts')\n",
    "plt.show()"
   ]
  },
  {
   "cell_type": "markdown",
   "metadata": {},
   "source": [
    "### Headquarter states"
   ]
  },
  {
   "cell_type": "code",
   "execution_count": 33,
   "metadata": {},
   "outputs": [
    {
     "data": {
      "text/plain": [
       "California        33\n",
       "Texas              4\n",
       "New York           2\n",
       "Washington         2\n",
       "New Jersey         1\n",
       "Idaho              1\n",
       "Wisconsin          1\n",
       "Connecticut        1\n",
       "Massachusetts      1\n",
       "Montana            1\n",
       "North Carolina     1\n",
       "Florida            1\n",
       "Arizona            1\n",
       "Name: HQ State, dtype: int64"
      ]
     },
     "execution_count": 33,
     "metadata": {},
     "output_type": "execute_result"
    }
   ],
   "source": [
    "tech_comp['HQ State'].value_counts()"
   ]
  },
  {
   "cell_type": "code",
   "execution_count": 36,
   "metadata": {},
   "outputs": [
    {
     "data": {
      "text/plain": [
       "Text(0, 0.5, 'Count of State')"
      ]
     },
     "execution_count": 36,
     "metadata": {},
     "output_type": "execute_result"
    },
    {
     "data": {
      "image/png": "[encoded data removed]",
      "text/plain": [
       "<Figure size 1296x576 with 1 Axes>"
      ]
     },
     "metadata": {
      "needs_background": "light"
     },
     "output_type": "display_data"
    }
   ],
   "source": [
    "plt.figure(figsize=(18,8))\n",
    "plt.title(\"State Wise Company\")\n",
    "sns.countplot(x='HQ State', data= tech_comp, order=tech_comp['HQ State'].value_counts().index)\n",
    "plt.xlabel(\"State\")\n",
    "plt.ylabel(\"Count of State\")"
   ]
  },
  {
   "cell_type": "markdown",
   "metadata": {},
   "source": [
    "### Top 10 companies with higher revenue"
   ]
  },
  {
   "cell_type": "code",
   "execution_count": 40,
   "metadata": {},
   "outputs": [
    {
     "data": {
      "text/html": [
       "<div>\n",
       "<style scoped>\n",
       "    .dataframe tbody tr th:only-of-type {\n",
       "        vertical-align: middle;\n",
       "    }\n",
       "\n",
       "    .dataframe tbody tr th {\n",
       "        vertical-align: top;\n",
       "    }\n",
       "\n",
       "    .dataframe thead th {\n",
       "        text-align: right;\n",
       "    }\n",
       "</style>\n",
       "<table border=\"1\" class=\"dataframe\">\n",
       "  <thead>\n",
       "    <tr style=\"text-align: right;\">\n",
       "      <th></th>\n",
       "      <th>Company Name</th>\n",
       "      <th>Annual Revenue 2022-2023 (USD in Billions)</th>\n",
       "    </tr>\n",
       "  </thead>\n",
       "  <tbody>\n",
       "    <tr>\n",
       "      <th>3</th>\n",
       "      <td>Amazon</td>\n",
       "      <td>513.98</td>\n",
       "    </tr>\n",
       "    <tr>\n",
       "      <th>0</th>\n",
       "      <td>Apple Inc.</td>\n",
       "      <td>387.53</td>\n",
       "    </tr>\n",
       "    <tr>\n",
       "      <th>2</th>\n",
       "      <td>Alphabet (Google)</td>\n",
       "      <td>282.83</td>\n",
       "    </tr>\n",
       "    <tr>\n",
       "      <th>1</th>\n",
       "      <td>Microsoft Corporation</td>\n",
       "      <td>204.09</td>\n",
       "    </tr>\n",
       "    <tr>\n",
       "      <th>6</th>\n",
       "      <td>Meta Platforms</td>\n",
       "      <td>116.60</td>\n",
       "    </tr>\n",
       "    <tr>\n",
       "      <th>48</th>\n",
       "      <td>Dell Technologies Inc.</td>\n",
       "      <td>102.30</td>\n",
       "    </tr>\n",
       "    <tr>\n",
       "      <th>5</th>\n",
       "      <td>Tesla</td>\n",
       "      <td>81.46</td>\n",
       "    </tr>\n",
       "    <tr>\n",
       "      <th>16</th>\n",
       "      <td>Intel Corporation</td>\n",
       "      <td>63.05</td>\n",
       "    </tr>\n",
       "    <tr>\n",
       "      <th>18</th>\n",
       "      <td>IBM Corporation</td>\n",
       "      <td>60.52</td>\n",
       "    </tr>\n",
       "    <tr>\n",
       "      <th>49</th>\n",
       "      <td>HP Inc.</td>\n",
       "      <td>59.78</td>\n",
       "    </tr>\n",
       "  </tbody>\n",
       "</table>\n",
       "</div>"
      ],
      "text/plain": [
       "              Company Name  Annual Revenue 2022-2023 (USD in Billions)\n",
       "3                   Amazon                                      513.98\n",
       "0               Apple Inc.                                      387.53\n",
       "2        Alphabet (Google)                                      282.83\n",
       "1    Microsoft Corporation                                      204.09\n",
       "6           Meta Platforms                                      116.60\n",
       "48  Dell Technologies Inc.                                      102.30\n",
       "5                    Tesla                                       81.46\n",
       "16       Intel Corporation                                       63.05\n",
       "18         IBM Corporation                                       60.52\n",
       "49                 HP Inc.                                       59.78"
      ]
     },
     "execution_count": 40,
     "metadata": {},
     "output_type": "execute_result"
    }
   ],
   "source": [
    "top_ten = tech_comp[['Company Name', 'Annual Revenue 2022-2023 (USD in Billions)']].nlargest(10,'Annual Revenue 2022-2023 (USD in Billions)')\n",
    "top_ten"
   ]
  },
  {
   "cell_type": "markdown",
   "metadata": {},
   "source": [
    "### Top 10 highest Market Caps"
   ]
  },
  {
   "cell_type": "code",
   "execution_count": 43,
   "metadata": {},
   "outputs": [
    {
     "data": {
      "text/html": [
       "<div>\n",
       "<style scoped>\n",
       "    .dataframe tbody tr th:only-of-type {\n",
       "        vertical-align: middle;\n",
       "    }\n",
       "\n",
       "    .dataframe tbody tr th {\n",
       "        vertical-align: top;\n",
       "    }\n",
       "\n",
       "    .dataframe thead th {\n",
       "        text-align: right;\n",
       "    }\n",
       "</style>\n",
       "<table border=\"1\" class=\"dataframe\">\n",
       "  <thead>\n",
       "    <tr style=\"text-align: right;\">\n",
       "      <th></th>\n",
       "      <th>Company Name</th>\n",
       "      <th>Market Cap (USD in Trillions)</th>\n",
       "    </tr>\n",
       "  </thead>\n",
       "  <tbody>\n",
       "    <tr>\n",
       "      <th>0</th>\n",
       "      <td>Apple Inc.</td>\n",
       "      <td>2.520</td>\n",
       "    </tr>\n",
       "    <tr>\n",
       "      <th>1</th>\n",
       "      <td>Microsoft Corporation</td>\n",
       "      <td>2.037</td>\n",
       "    </tr>\n",
       "    <tr>\n",
       "      <th>2</th>\n",
       "      <td>Alphabet (Google)</td>\n",
       "      <td>1.350</td>\n",
       "    </tr>\n",
       "    <tr>\n",
       "      <th>3</th>\n",
       "      <td>Amazon</td>\n",
       "      <td>1.030</td>\n",
       "    </tr>\n",
       "    <tr>\n",
       "      <th>4</th>\n",
       "      <td>NVIDIA Corporation</td>\n",
       "      <td>0.653</td>\n",
       "    </tr>\n",
       "    <tr>\n",
       "      <th>5</th>\n",
       "      <td>Tesla</td>\n",
       "      <td>0.625</td>\n",
       "    </tr>\n",
       "    <tr>\n",
       "      <th>6</th>\n",
       "      <td>Meta Platforms</td>\n",
       "      <td>0.524</td>\n",
       "    </tr>\n",
       "    <tr>\n",
       "      <th>7</th>\n",
       "      <td>Broadcom Inc.</td>\n",
       "      <td>0.266</td>\n",
       "    </tr>\n",
       "    <tr>\n",
       "      <th>8</th>\n",
       "      <td>Oracle Corporation</td>\n",
       "      <td>0.236</td>\n",
       "    </tr>\n",
       "    <tr>\n",
       "      <th>9</th>\n",
       "      <td>Cisco Systems Inc.</td>\n",
       "      <td>0.208</td>\n",
       "    </tr>\n",
       "  </tbody>\n",
       "</table>\n",
       "</div>"
      ],
      "text/plain": [
       "            Company Name  Market Cap (USD in Trillions)\n",
       "0             Apple Inc.                          2.520\n",
       "1  Microsoft Corporation                          2.037\n",
       "2      Alphabet (Google)                          1.350\n",
       "3                 Amazon                          1.030\n",
       "4     NVIDIA Corporation                          0.653\n",
       "5                  Tesla                          0.625\n",
       "6         Meta Platforms                          0.524\n",
       "7          Broadcom Inc.                          0.266\n",
       "8     Oracle Corporation                          0.236\n",
       "9     Cisco Systems Inc.                          0.208"
      ]
     },
     "execution_count": 43,
     "metadata": {},
     "output_type": "execute_result"
    }
   ],
   "source": [
    "top_mcaps = tech_comp[['Company Name', 'Market Cap (USD in Trillions)']].nlargest(10,'Market Cap (USD in Trillions)')\n",
    "top_mcaps"
   ]
  },
  {
   "cell_type": "code",
   "execution_count": 44,
   "metadata": {},
   "outputs": [
    {
     "data": {
      "text/plain": [
       "Text(0, 0.5, 'Market Cap (USD in Trillions)')"
      ]
     },
     "execution_count": 44,
     "metadata": {},
     "output_type": "execute_result"
    },
    {
     "data": {
      "image/png": "[encoded data removed]",
      "text/plain": [
       "<Figure size 1728x576 with 1 Axes>"
      ]
     },
     "metadata": {
      "needs_background": "light"
     },
     "output_type": "display_data"
    }
   ],
   "source": [
    "plt.figure(figsize=(24,8))\n",
    "plt.title(\"Top 10 Highest Tech Company Market Cap Between 2022 to 2023\")\n",
    "sns.barplot(x=top_mcaps['Company Name'], y=top_mcaps['Market Cap (USD in Trillions)'])\n",
    "plt.xlabel(\"Company\")\n",
    "plt.ylabel(\"Market Cap (USD in Trillions)\")"
   ]
  },
  {
   "cell_type": "markdown",
   "metadata": {},
   "source": [
    "### Top 10 highest annual income tax"
   ]
  },
  {
   "cell_type": "code",
   "execution_count": 47,
   "metadata": {},
   "outputs": [
    {
     "data": {
      "text/html": [
       "<div>\n",
       "<style scoped>\n",
       "    .dataframe tbody tr th:only-of-type {\n",
       "        vertical-align: middle;\n",
       "    }\n",
       "\n",
       "    .dataframe tbody tr th {\n",
       "        vertical-align: top;\n",
       "    }\n",
       "\n",
       "    .dataframe thead th {\n",
       "        text-align: right;\n",
       "    }\n",
       "</style>\n",
       "<table border=\"1\" class=\"dataframe\">\n",
       "  <thead>\n",
       "    <tr style=\"text-align: right;\">\n",
       "      <th></th>\n",
       "      <th>Company Name</th>\n",
       "      <th>Annual Income Tax in 2022-2023 (USD in Billions)</th>\n",
       "    </tr>\n",
       "  </thead>\n",
       "  <tbody>\n",
       "    <tr>\n",
       "      <th>0</th>\n",
       "      <td>Apple Inc.</td>\n",
       "      <td>18.314</td>\n",
       "    </tr>\n",
       "    <tr>\n",
       "      <th>1</th>\n",
       "      <td>Microsoft Corporation</td>\n",
       "      <td>15.139</td>\n",
       "    </tr>\n",
       "    <tr>\n",
       "      <th>2</th>\n",
       "      <td>Alphabet (Google)</td>\n",
       "      <td>11.356</td>\n",
       "    </tr>\n",
       "    <tr>\n",
       "      <th>6</th>\n",
       "      <td>Meta Platforms</td>\n",
       "      <td>5.619</td>\n",
       "    </tr>\n",
       "    <tr>\n",
       "      <th>9</th>\n",
       "      <td>Cisco Systems Inc.</td>\n",
       "      <td>2.665</td>\n",
       "    </tr>\n",
       "    <tr>\n",
       "      <th>14</th>\n",
       "      <td>Qualcomm Inc.</td>\n",
       "      <td>2.012</td>\n",
       "    </tr>\n",
       "    <tr>\n",
       "      <th>12</th>\n",
       "      <td>Texas Instruments Inc.</td>\n",
       "      <td>1.283</td>\n",
       "    </tr>\n",
       "    <tr>\n",
       "      <th>11</th>\n",
       "      <td>Adobe Inc.</td>\n",
       "      <td>1.252</td>\n",
       "    </tr>\n",
       "    <tr>\n",
       "      <th>49</th>\n",
       "      <td>HP Inc.</td>\n",
       "      <td>1.238</td>\n",
       "    </tr>\n",
       "    <tr>\n",
       "      <th>5</th>\n",
       "      <td>Tesla</td>\n",
       "      <td>1.132</td>\n",
       "    </tr>\n",
       "  </tbody>\n",
       "</table>\n",
       "</div>"
      ],
      "text/plain": [
       "              Company Name  Annual Income Tax in 2022-2023 (USD in Billions)\n",
       "0               Apple Inc.                                            18.314\n",
       "1    Microsoft Corporation                                            15.139\n",
       "2        Alphabet (Google)                                            11.356\n",
       "6           Meta Platforms                                             5.619\n",
       "9       Cisco Systems Inc.                                             2.665\n",
       "14           Qualcomm Inc.                                             2.012\n",
       "12  Texas Instruments Inc.                                             1.283\n",
       "11              Adobe Inc.                                             1.252\n",
       "49                 HP Inc.                                             1.238\n",
       "5                    Tesla                                             1.132"
      ]
     },
     "execution_count": 47,
     "metadata": {},
     "output_type": "execute_result"
    }
   ],
   "source": [
    "top_ten_tax = tech_comp[['Company Name', 'Annual Income Tax in 2022-2023 (USD in Billions)']].nlargest(10,'Annual Income Tax in 2022-2023 (USD in Billions)')\n",
    "top_ten_tax"
   ]
  },
  {
   "cell_type": "code",
   "execution_count": 48,
   "metadata": {},
   "outputs": [
    {
     "data": {
      "text/plain": [
       "Text(0, 0.5, 'Annual Income Tax (USD in Billions)')"
      ]
     },
     "execution_count": 48,
     "metadata": {},
     "output_type": "execute_result"
    },
    {
     "data": {
      "image/png": "[encoded data removed]",
      "text/plain": [
       "<Figure size 1728x720 with 1 Axes>"
      ]
     },
     "metadata": {
      "needs_background": "light"
     },
     "output_type": "display_data"
    }
   ],
   "source": [
    "plt.figure(figsize=(24,10))\n",
    "plt.title(\"Top 10 Highest Tech Company Annual Income Tax Between 2022 to 2023\")\n",
    "sns.barplot(x=top_ten_tax['Company Name'], y=top_ten_tax['Annual Income Tax in 2022-2023 (USD in Billions)'])\n",
    "plt.xlabel(\"Company\")\n",
    "plt.ylabel(\"Annual Income Tax (USD in Billions)\")"
   ]
  },
  {
   "cell_type": "markdown",
   "metadata": {},
   "source": [
    "### Oldest technology company"
   ]
  },
  {
   "cell_type": "code",
   "execution_count": 49,
   "metadata": {},
   "outputs": [
    {
     "data": {
      "text/html": [
       "<div>\n",
       "<style scoped>\n",
       "    .dataframe tbody tr th:only-of-type {\n",
       "        vertical-align: middle;\n",
       "    }\n",
       "\n",
       "    .dataframe tbody tr th {\n",
       "        vertical-align: top;\n",
       "    }\n",
       "\n",
       "    .dataframe thead th {\n",
       "        text-align: right;\n",
       "    }\n",
       "</style>\n",
       "<table border=\"1\" class=\"dataframe\">\n",
       "  <thead>\n",
       "    <tr style=\"text-align: right;\">\n",
       "      <th></th>\n",
       "      <th>Company Name</th>\n",
       "      <th>Industry</th>\n",
       "      <th>Sector</th>\n",
       "      <th>HQ State</th>\n",
       "      <th>Founding Year</th>\n",
       "      <th>Annual Revenue 2022-2023 (USD in Billions)</th>\n",
       "      <th>Market Cap (USD in Trillions)</th>\n",
       "      <th>Stock Name</th>\n",
       "      <th>Annual Income Tax in 2022-2023 (USD in Billions)</th>\n",
       "      <th>Employee Size</th>\n",
       "    </tr>\n",
       "  </thead>\n",
       "  <tbody>\n",
       "    <tr>\n",
       "      <th>42</th>\n",
       "      <td>Roper Technologies</td>\n",
       "      <td>Technology</td>\n",
       "      <td>Electronic Components</td>\n",
       "      <td>Florida</td>\n",
       "      <td>1890</td>\n",
       "      <td>5.61</td>\n",
       "      <td>0.046</td>\n",
       "      <td>ROP</td>\n",
       "      <td>0.296</td>\n",
       "      <td>19300</td>\n",
       "    </tr>\n",
       "  </tbody>\n",
       "</table>\n",
       "</div>"
      ],
      "text/plain": [
       "          Company Name    Industry                 Sector HQ State  \\\n",
       "42  Roper Technologies  Technology  Electronic Components  Florida   \n",
       "\n",
       "    Founding Year  Annual Revenue 2022-2023 (USD in Billions)  \\\n",
       "42           1890                                        5.61   \n",
       "\n",
       "    Market Cap (USD in Trillions) Stock Name  \\\n",
       "42                          0.046        ROP   \n",
       "\n",
       "    Annual Income Tax in 2022-2023 (USD in Billions)  Employee Size  \n",
       "42                                             0.296          19300  "
      ]
     },
     "execution_count": 49,
     "metadata": {},
     "output_type": "execute_result"
    }
   ],
   "source": [
    "tech_comp[tech_comp['Founding Year'] == tech_comp['Founding Year'].min()]"
   ]
  },
  {
   "cell_type": "markdown",
   "metadata": {},
   "source": [
    "### Newest technology company"
   ]
  },
  {
   "cell_type": "code",
   "execution_count": 50,
   "metadata": {},
   "outputs": [
    {
     "data": {
      "text/html": [
       "<div>\n",
       "<style scoped>\n",
       "    .dataframe tbody tr th:only-of-type {\n",
       "        vertical-align: middle;\n",
       "    }\n",
       "\n",
       "    .dataframe tbody tr th {\n",
       "        vertical-align: top;\n",
       "    }\n",
       "\n",
       "    .dataframe thead th {\n",
       "        text-align: right;\n",
       "    }\n",
       "</style>\n",
       "<table border=\"1\" class=\"dataframe\">\n",
       "  <thead>\n",
       "    <tr style=\"text-align: right;\">\n",
       "      <th></th>\n",
       "      <th>Company Name</th>\n",
       "      <th>Industry</th>\n",
       "      <th>Sector</th>\n",
       "      <th>HQ State</th>\n",
       "      <th>Founding Year</th>\n",
       "      <th>Annual Revenue 2022-2023 (USD in Billions)</th>\n",
       "      <th>Market Cap (USD in Trillions)</th>\n",
       "      <th>Stock Name</th>\n",
       "      <th>Annual Income Tax in 2022-2023 (USD in Billions)</th>\n",
       "      <th>Employee Size</th>\n",
       "    </tr>\n",
       "  </thead>\n",
       "  <tbody>\n",
       "    <tr>\n",
       "      <th>41</th>\n",
       "      <td>Snowflake Inc.</td>\n",
       "      <td>Technology</td>\n",
       "      <td>Software Application</td>\n",
       "      <td>Montana</td>\n",
       "      <td>2012</td>\n",
       "      <td>2.06</td>\n",
       "      <td>0.046</td>\n",
       "      <td>SNOW</td>\n",
       "      <td>0.003</td>\n",
       "      <td>4991</td>\n",
       "    </tr>\n",
       "  </tbody>\n",
       "</table>\n",
       "</div>"
      ],
      "text/plain": [
       "      Company Name    Industry                Sector HQ State  Founding Year  \\\n",
       "41  Snowflake Inc.  Technology  Software Application  Montana           2012   \n",
       "\n",
       "    Annual Revenue 2022-2023 (USD in Billions)  Market Cap (USD in Trillions)  \\\n",
       "41                                        2.06                          0.046   \n",
       "\n",
       "   Stock Name  Annual Income Tax in 2022-2023 (USD in Billions)  Employee Size  \n",
       "41       SNOW                                             0.003           4991  "
      ]
     },
     "execution_count": 50,
     "metadata": {},
     "output_type": "execute_result"
    }
   ],
   "source": [
    "tech_comp[tech_comp['Founding Year'] == tech_comp['Founding Year'].max()]"
   ]
  },
  {
   "cell_type": "markdown",
   "metadata": {},
   "source": [
    "### Top 10 highest number of employees in each company"
   ]
  },
  {
   "cell_type": "code",
   "execution_count": 51,
   "metadata": {},
   "outputs": [
    {
     "data": {
      "text/html": [
       "<div>\n",
       "<style scoped>\n",
       "    .dataframe tbody tr th:only-of-type {\n",
       "        vertical-align: middle;\n",
       "    }\n",
       "\n",
       "    .dataframe tbody tr th {\n",
       "        vertical-align: top;\n",
       "    }\n",
       "\n",
       "    .dataframe thead th {\n",
       "        text-align: right;\n",
       "    }\n",
       "</style>\n",
       "<table border=\"1\" class=\"dataframe\">\n",
       "  <thead>\n",
       "    <tr style=\"text-align: right;\">\n",
       "      <th></th>\n",
       "      <th>Company Name</th>\n",
       "      <th>Employee Size</th>\n",
       "    </tr>\n",
       "  </thead>\n",
       "  <tbody>\n",
       "    <tr>\n",
       "      <th>3</th>\n",
       "      <td>Amazon</td>\n",
       "      <td>1541000</td>\n",
       "    </tr>\n",
       "    <tr>\n",
       "      <th>18</th>\n",
       "      <td>IBM Corporation</td>\n",
       "      <td>345000</td>\n",
       "    </tr>\n",
       "    <tr>\n",
       "      <th>1</th>\n",
       "      <td>Microsoft Corporation</td>\n",
       "      <td>221000</td>\n",
       "    </tr>\n",
       "    <tr>\n",
       "      <th>2</th>\n",
       "      <td>Alphabet (Google)</td>\n",
       "      <td>190234</td>\n",
       "    </tr>\n",
       "    <tr>\n",
       "      <th>0</th>\n",
       "      <td>Apple Inc.</td>\n",
       "      <td>164000</td>\n",
       "    </tr>\n",
       "    <tr>\n",
       "      <th>8</th>\n",
       "      <td>Oracle Corporation</td>\n",
       "      <td>143000</td>\n",
       "    </tr>\n",
       "    <tr>\n",
       "      <th>48</th>\n",
       "      <td>Dell Technologies Inc.</td>\n",
       "      <td>133000</td>\n",
       "    </tr>\n",
       "    <tr>\n",
       "      <th>16</th>\n",
       "      <td>Intel Corporation</td>\n",
       "      <td>131900</td>\n",
       "    </tr>\n",
       "    <tr>\n",
       "      <th>5</th>\n",
       "      <td>Tesla</td>\n",
       "      <td>127855</td>\n",
       "    </tr>\n",
       "    <tr>\n",
       "      <th>6</th>\n",
       "      <td>Meta Platforms</td>\n",
       "      <td>86482</td>\n",
       "    </tr>\n",
       "  </tbody>\n",
       "</table>\n",
       "</div>"
      ],
      "text/plain": [
       "              Company Name  Employee Size\n",
       "3                   Amazon        1541000\n",
       "18         IBM Corporation         345000\n",
       "1    Microsoft Corporation         221000\n",
       "2        Alphabet (Google)         190234\n",
       "0               Apple Inc.         164000\n",
       "8       Oracle Corporation         143000\n",
       "48  Dell Technologies Inc.         133000\n",
       "16       Intel Corporation         131900\n",
       "5                    Tesla         127855\n",
       "6           Meta Platforms          86482"
      ]
     },
     "execution_count": 51,
     "metadata": {},
     "output_type": "execute_result"
    }
   ],
   "source": [
    "top_emp = tech_comp[['Company Name', 'Employee Size']].nlargest(10,'Employee Size')\n",
    "top_emp"
   ]
  },
  {
   "cell_type": "code",
   "execution_count": 52,
   "metadata": {},
   "outputs": [
    {
     "data": {
      "text/plain": [
       "Text(0, 0.5, 'Number of Employee')"
      ]
     },
     "execution_count": 52,
     "metadata": {},
     "output_type": "execute_result"
    },
    {
     "data": {
      "image/png": "[encoded data removed]",
      "text/plain": [
       "<Figure size 1440x576 with 1 Axes>"
      ]
     },
     "metadata": {
      "needs_background": "light"
     },
     "output_type": "display_data"
    }
   ],
   "source": [
    "plt.figure(figsize=(20,8))\n",
    "plt.title(\"Top 10 Highest Employee Amount\")\n",
    "sns.barplot(x=top_emp['Company Name'], y=top_emp['Employee Size'])\n",
    "plt.xlabel(\"Company\")\n",
    "plt.ylabel(\"Number of Employee\")"
   ]
  },
  {
   "cell_type": "markdown",
   "metadata": {},
   "source": [
    "### Correlation"
   ]
  },
  {
   "cell_type": "code",
   "execution_count": 54,
   "metadata": {
    "scrolled": true
   },
   "outputs": [
    {
     "data": {
      "text/plain": [
       "<AxesSubplot:>"
      ]
     },
     "execution_count": 54,
     "metadata": {},
     "output_type": "execute_result"
    },
    {
     "data": {
      "image/png": "[encoded data removed]",
      "text/plain": [
       "<Figure size 432x288 with 2 Axes>"
      ]
     },
     "metadata": {
      "needs_background": "light"
     },
     "output_type": "display_data"
    }
   ],
   "source": [
    "sns.heatmap(data = tech_comp.corr(), annot = True)"
   ]
  },
  {
   "cell_type": "markdown",
   "metadata": {},
   "source": [
    "## Insights"
   ]
  },
  {
   "cell_type": "raw",
   "metadata": {},
   "source": [
    "After analyze the whole data I have find some useful insights about Top 50 Tech company of United States.\n",
    "\n",
    "1. Maximum No. of Company Comes form Software Application and Semiconductors Sector that is 15 and 14.\n",
    "2. Maximum companies Headquarters are situated in California\n",
    "3. Amazon has the highest annual Revenue 513.98 (USD in Billions) in 2022-2023\n",
    "4. Apple Inc. has the Highest Market cap 2.520 (USD in Trillions)\n",
    "5. Apple has the the highest Annual Income Tax in 2022-2023 (USD in Billions)\n",
    "6. Roper Technologies is the oldest tech company, its founding year is 1890\n",
    "7. Snowflake Inc. is the Newest Tech company, Its founding year is 2012\n",
    "8. Amazon has maximum no of Employee size\n"
   ]
  }
 ],
 "metadata": {
  "kernelspec": {
   "display_name": "Python 3",
   "language": "python",
   "name": "python3"
  },
  "language_info": {
   "codemirror_mode": {
    "name": "ipython",
    "version": 3
   },
   "file_extension": ".py",
   "mimetype": "text/x-python",
   "name": "python",
   "nbconvert_exporter": "python",
   "pygments_lexer": "ipython3",
   "version": "3.8.5"
  }
 },
 "nbformat": 4,
 "nbformat_minor": 4
}
